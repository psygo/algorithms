{
 "cells": [
  {
   "cell_type": "code",
   "execution_count": 3,
   "metadata": {},
   "outputs": [],
   "source": [
    "import numpy as np\n",
    "\n",
    "class Erlang():\n",
    "    \n",
    "    def __init__(self, call_rate, call_time, max_traffic):\n",
    "        self.call_rate = call_rate\n",
    "        self.call_time = call_time\n",
    "        self.E = call_rate*call_time/max_traffic\n",
    "        \n",
    "    def __str__(self):\n",
    "        return (f'Call Rate: {self.call_rate} \\n' +\n",
    "                f'Call Time: {self.call_time} \\n' +\n",
    "                f'E: {self.E}')\n",
    "        \n",
    "    def B(self, n):\n",
    "        '''\n",
    "        Finds the probability of blockage with\n",
    "        the Erlang B Function.\n",
    "        '''\n",
    "        top = (self.E**n)/ (np.prod(range(1,n+1)))\n",
    "        x = [self.E**i for i in range(0,n+1)]\n",
    "        y = [np.prod(range(1,j+1)) for j in range (0,n+1)]\n",
    "        bottom = np.sum(np.divide(x,y))\n",
    "        return top/bottom\n",
    "    \n",
    "    def C(self, n):\n",
    "        '''\n",
    "        Finds the probability of a\n",
    "        delay with the Erlang C Function\n",
    "        '''\n",
    "        top = n*self.B(n)\n",
    "        bottom = n - self.E*(1 - self.B(n))\n",
    "        # Just so we don't divide by zero:\n",
    "        if n == 0:\n",
    "            return 1\n",
    "        # The probability can't be bigger than 1:\n",
    "        else:\n",
    "            return np.minimum(1, top/bottom)\n",
    "        "
   ]
  },
  {
   "cell_type": "code",
   "execution_count": 6,
   "metadata": {},
   "outputs": [
    {
     "name": "stdout",
     "output_type": "stream",
     "text": [
      "0.019900497512437814\n",
      "0.05970149253731344\n"
     ]
    }
   ],
   "source": [
    "E = 2\n",
    "n = 5\n",
    "AWA = Erlang(E,1,1).C(n)/(1*(n-E))\n",
    "print(AWA)\n",
    "print(Erlang(E,1,1).C(n))"
   ]
  },
  {
   "cell_type": "code",
   "execution_count": 18,
   "metadata": {},
   "outputs": [
    {
     "data": {
      "image/png": "[encoded data removed]",
      "text/plain": [
       "<Figure size 432x288 with 1 Axes>"
      ]
     },
     "metadata": {},
     "output_type": "display_data"
    }
   ],
   "source": [
    "z = Erlang(0.1,1,1).B(5)\n",
    "# a.B(2)\n",
    "import matplotlib\n",
    "import matplotlib.pyplot as plt\n",
    "\n",
    "E_x = [i/10 for i in range(1,101)]\n",
    "B_E = [Erlang(i/10,1,1).B(5) for i in range(1,101)]\n",
    "\n",
    "fig, ax = plt.subplots()\n",
    "ax.plot(E_x,B_E)\n",
    "ax.grid()\n",
    "ax.set(xlabel = 'E', ylabel = 'B(E)')\n",
    "plt.show()"
   ]
  },
  {
   "cell_type": "code",
   "execution_count": 167,
   "metadata": {},
   "outputs": [],
   "source": [
    "class FindErlang():\n",
    "    \n",
    "    def __init__(self):\n",
    "        pass\n",
    "    \n",
    "    def findN_B(self, B, E):\n",
    "        '''\n",
    "        Finds N, given B and E,\n",
    "        using the Erlang B Function\n",
    "        '''\n",
    "        n = 1\n",
    "        while True:\n",
    "            x = Erlang(E,1,1)\n",
    "            B_found = x.B(n)\n",
    "            if B_found <= B:\n",
    "                return n, B_found\n",
    "            else:\n",
    "                n += 1\n",
    "                \n",
    "    def findE_B(self, n, B):\n",
    "        '''\n",
    "        Finds E, given B and n,\n",
    "        using the Erlang B function\n",
    "        '''\n",
    "        E0 = 1\n",
    "        eps = 0.001\n",
    "        E1 = 0\n",
    "        \n",
    "        while True:\n",
    "            x = Erlang(E0,1,1)\n",
    "            B_found = x.B(n)\n",
    "            if B_found - B >= eps:\n",
    "                E2 = E0 \n",
    "                break\n",
    "            else:\n",
    "                E0 += 1\n",
    "        \n",
    "        while True:\n",
    "            x = Erlang(E2,1,1)\n",
    "            B_found = x.B(n)\n",
    "            step = abs(E2 - E1)\n",
    "            \n",
    "            if B_found - B >= eps:\n",
    "                inter = E2\n",
    "                E2 -= step/2\n",
    "                E1 = inter\n",
    "            elif B_found - B <= -eps:\n",
    "                inter = E2\n",
    "                E2 += step/2\n",
    "                E1 = inter\n",
    "            else:\n",
    "                return E2\n",
    "            \n",
    "    def table_B(self, n_max, B):\n",
    "        dict_erl = {}\n",
    "        for k in range(1, n_max+1):\n",
    "            E_B = [round(FindErlang().findE_B(k,i),2) for i in B]\n",
    "            dict_erl[str(k)] = {i:j for i,j in zip(B,E_B)}\n",
    "            \n",
    "        return dict_erl\n",
    "    \n",
    "    def findE_B_grad(self, n, B):\n",
    "        '''\n",
    "        Finds E, given B and n,\n",
    "        using the Erlang B function\n",
    "        '''\n",
    "        alpha = 0.5\n",
    "        eps = 0.001\n",
    "        E = 1\n",
    "        while True:\n",
    "            x = Erlang(E,1,1)\n",
    "            B_found = x.B(n)\n",
    "            error = abs(B_found - B)\n",
    "            # Is B_found within the given error?\n",
    "            if error <= eps:\n",
    "                return E\n",
    "            # Calculating the Derivative\n",
    "            top = E**(n-1)/(np.prod(range(1,n)))\n",
    "            x = [E**(i-1) for i in range(1,n+1)]\n",
    "            y = [np.prod(range(1,j+1)) for j in range (1,n+1)]\n",
    "            bottom = np.sum(np.divide(x,y))\n",
    "            der = (B_found - B) * (top/bottom)\n",
    "            # Gredient Descent\n",
    "            # We have to add because the graph is\n",
    "            # inversely concave for a fixed n.\n",
    "            E -= alpha*der"
   ]
  },
  {
   "cell_type": "code",
   "execution_count": 193,
   "metadata": {},
   "outputs": [
    {
     "name": "stdout",
     "output_type": "stream",
     "text": [
      "3.716096626519539\n",
      "3.75\n",
      "2.3817012310028076\n",
      "0.0009980201721191406\n"
     ]
    }
   ],
   "source": [
    "import time\n",
    "\n",
    "tic1 = time.time()\n",
    "T = FindErlang().findE_B_grad(7,0.05)\n",
    "toc1 = time.time()\n",
    "tic2 = time.time()\n",
    "T2 = FindErlang().findE_B(7,0.05)\n",
    "toc2 = time.time()\n",
    "print(T)\n",
    "print(T2)\n",
    "print(toc1-tic1)\n",
    "print(toc2-tic2)"
   ]
  },
  {
   "cell_type": "code",
   "execution_count": 137,
   "metadata": {},
   "outputs": [],
   "source": [
    "import csv\n",
    "\n",
    "B = [0.01,0.012,0.015,0.02,0.03,0.05,0.07,0.1,0.15,0.2,0.3,0.4,0.5]\n",
    "G = FindErlang().table_B(5,B)\n",
    "H = G['1']\n",
    "\n",
    "keys = B\n",
    "keys = [str(i) for i in list(H.keys())]\n",
    "\n",
    "G_list = [G[str(i)] for i in G]\n",
    "\n",
    "with open('test.csv', 'w') as f:\n",
    "    f.write(' ,')\n",
    "    for j in B:\n",
    "        f.write(f'{j},')\n",
    "    f.write('\\n')\n",
    "    \n",
    "    n = 1\n",
    "    for i in G_list:\n",
    "        f.write(f'{n},')\n",
    "        n += 1\n",
    "        for key in i.keys():\n",
    "            f.write(f'{i[key]},')\n",
    "        f.write('\\n')"
   ]
  },
  {
   "cell_type": "code",
   "execution_count": 22,
   "metadata": {},
   "outputs": [
    {
     "name": "stdout",
     "output_type": "stream",
     "text": [
      "['Dialect', 'DictReader', 'DictWriter', 'Error', 'OrderedDict', 'QUOTE_ALL', 'QUOTE_MINIMAL', 'QUOTE_NONE', 'QUOTE_NONNUMERIC', 'Sniffer', 'StringIO', '_Dialect', '__all__', '__builtins__', '__cached__', '__doc__', '__file__', '__loader__', '__name__', '__package__', '__spec__', '__version__', 'excel', 'excel_tab', 'field_size_limit', 'get_dialect', 'list_dialects', 're', 'reader', 'register_dialect', 'unix_dialect', 'unregister_dialect', 'writer']\n"
     ]
    }
   ],
   "source": [
    "import csv\n",
    "\n",
    "print(dir(csv))"
   ]
  },
  {
   "cell_type": "code",
   "execution_count": 20,
   "metadata": {},
   "outputs": [
    {
     "data": {
      "text/plain": [
       "1.2674941805568616"
      ]
     },
     "execution_count": 20,
     "metadata": {},
     "output_type": "execute_result"
    }
   ],
   "source": [
    "k = FindErlang()\n",
    "k.findE_B(3,0.1)"
   ]
  },
  {
   "cell_type": "code",
   "execution_count": 19,
   "metadata": {
    "scrolled": true
   },
   "outputs": [
    {
     "name": "stderr",
     "output_type": "stream",
     "text": [
      "C:\\Users\\Philippe\\Anaconda3\\lib\\site-packages\\ipykernel_launcher.py:2: DeprecationWarning: `imread` is deprecated!\n",
      "`imread` is deprecated in SciPy 1.0.0, and will be removed in 1.2.0.\n",
      "Use ``imageio.imread`` instead.\n",
      "  \n"
     ]
    },
    {
     "data": {
      "text/plain": [
       "<function matplotlib.pyplot.show(*args, **kw)>"
      ]
     },
     "execution_count": 19,
     "metadata": {},
     "output_type": "execute_result"
    },
    {
     "data": {
      "image/png": "[encoded data removed]",
      "text/plain": [
       "<Figure size 432x288 with 1 Axes>"
      ]
     },
     "metadata": {},
     "output_type": "display_data"
    }
   ],
   "source": [
    "from scipy import misc\n",
    "face = misc.imread('ErlangB.png')\n",
    "import matplotlib.pyplot as plt\n",
    "plt.imshow(face)\n",
    "plt.show"
   ]
  },
  {
   "cell_type": "code",
   "execution_count": 52,
   "metadata": {
    "scrolled": true
   },
   "outputs": [
    {
     "ename": "AttributeError",
     "evalue": "'list' object has no attribute 'shape'",
     "output_type": "error",
     "traceback": [
      "\u001b[1;31m---------------------------------------------------------------------------\u001b[0m",
      "\u001b[1;31mAttributeError\u001b[0m                            Traceback (most recent call last)",
      "\u001b[1;32m<ipython-input-52-fbec8c2dea7b>\u001b[0m in \u001b[0;36m<module>\u001b[1;34m()\u001b[0m\n\u001b[0;32m      1\u001b[0m \u001b[0mA\u001b[0m \u001b[1;33m=\u001b[0m \u001b[0mnp\u001b[0m\u001b[1;33m.\u001b[0m\u001b[0mndarray\u001b[0m\u001b[1;33m(\u001b[0m\u001b[1;33m[\u001b[0m\u001b[1;36m1\u001b[0m\u001b[1;33m,\u001b[0m\u001b[1;36m2\u001b[0m\u001b[1;33m]\u001b[0m\u001b[1;33m)\u001b[0m\u001b[1;33m\u001b[0m\u001b[0m\n\u001b[0;32m      2\u001b[0m \u001b[0mA\u001b[0m \u001b[1;33m=\u001b[0m \u001b[1;33m[\u001b[0m\u001b[1;33m[\u001b[0m\u001b[1;36m1\u001b[0m\u001b[1;33m,\u001b[0m\u001b[1;36m2\u001b[0m\u001b[1;33m]\u001b[0m\u001b[1;33m,\u001b[0m\u001b[1;33m[\u001b[0m\u001b[1;36m3\u001b[0m\u001b[1;33m,\u001b[0m\u001b[1;36m4\u001b[0m\u001b[1;33m]\u001b[0m\u001b[1;33m]\u001b[0m\u001b[1;33m\u001b[0m\u001b[0m\n\u001b[1;32m----> 3\u001b[1;33m \u001b[0mA\u001b[0m\u001b[1;33m.\u001b[0m\u001b[0mshape\u001b[0m\u001b[1;33m\u001b[0m\u001b[0m\n\u001b[0m",
      "\u001b[1;31mAttributeError\u001b[0m: 'list' object has no attribute 'shape'"
     ]
    }
   ],
   "source": [
    "A = np.ndarray([1,2])"
   ]
  },
  {
   "cell_type": "code",
   "execution_count": 65,
   "metadata": {},
   "outputs": [
    {
     "data": {
      "text/plain": [
       "list"
      ]
     },
     "execution_count": 65,
     "metadata": {},
     "output_type": "execute_result"
    }
   ],
   "source": [
    "k = []\n",
    "# k.append(g[1,1,:])\n",
    "k = [k.append(b) for b in g[1,1,:]]\n",
    "type(list(g[1,1,:]))"
   ]
  },
  {
   "cell_type": "code",
   "execution_count": 74,
   "metadata": {},
   "outputs": [
    {
     "data": {
      "text/plain": [
       "<function matplotlib.pyplot.show(*args, **kw)>"
      ]
     },
     "execution_count": 74,
     "metadata": {},
     "output_type": "execute_result"
    },
    {
     "data": {
      "image/png": "[encoded data removed]",
      "text/plain": [
       "<Figure size 432x288 with 1 Axes>"
      ]
     },
     "metadata": {},
     "output_type": "display_data"
    }
   ],
   "source": [
    "import numpy as np\n",
    "g = face[:,:,:]\n",
    "for i,j in zip(range(0,face.shape[0]),range(0,face.shape[1])):\n",
    "    if list(g[i,j,:]) != [255,255,255] and list(g[i,j,:]) != [0,0,0]:\n",
    "        g[i,j,:] = [0,0,0]\n",
    "        \n",
    "plt.imshow(face)\n",
    "plt.show"
   ]
  }
 ],
 "metadata": {
  "kernelspec": {
   "display_name": "Python 3",
   "language": "python",
   "name": "python3"
  }
 },
 "nbformat": 4,
 "nbformat_minor": 2
}
